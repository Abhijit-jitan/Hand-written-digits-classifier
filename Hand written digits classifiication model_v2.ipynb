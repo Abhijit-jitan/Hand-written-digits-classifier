{
 "cells": [
  {
   "cell_type": "code",
   "execution_count": null,
   "metadata": {},
   "outputs": [],
   "source": [
    "## Import Libraries"
   ]
  },
  {
   "cell_type": "code",
   "execution_count": 7,
   "metadata": {
    "ExecuteTime": {
     "end_time": "2021-08-26T07:02:42.758399Z",
     "start_time": "2021-08-26T07:02:41.539661Z"
    }
   },
   "outputs": [],
   "source": [
    "import tensorflow as tf\n",
    "from tensorflow import keras\n",
    "import matplotlib.pyplot as plt"
   ]
  },
  {
   "cell_type": "markdown",
   "metadata": {},
   "source": [
    "## Load Data"
   ]
  },
  {
   "cell_type": "code",
   "execution_count": 10,
   "metadata": {
    "ExecuteTime": {
     "end_time": "2021-08-26T07:03:36.633058Z",
     "start_time": "2021-08-26T07:03:35.879074Z"
    }
   },
   "outputs": [],
   "source": [
    "from tensorflow.keras.datasets import mnist\n",
    "\n",
    "(x_train,y_train),(x_test,y_test)=mnist.load_data()\n"
   ]
  },
  {
   "cell_type": "code",
   "execution_count": 11,
   "metadata": {
    "ExecuteTime": {
     "end_time": "2021-08-26T07:03:37.102804Z",
     "start_time": "2021-08-26T07:03:37.084850Z"
    }
   },
   "outputs": [],
   "source": [
    "## Preprocess data"
   ]
  },
  {
   "cell_type": "code",
   "execution_count": 12,
   "metadata": {
    "ExecuteTime": {
     "end_time": "2021-08-26T07:03:38.179921Z",
     "start_time": "2021-08-26T07:03:37.777994Z"
    }
   },
   "outputs": [],
   "source": [
    "## reshape to be [samples][pixels][width][height]\n",
    "x_train=x_train.reshape(x_train.shape[0],28,28,1).astype('float32')\n",
    "x_test=x_test.reshape(x_test.shape[0],28,28,1).astype('float32')\n",
    "\n",
    "## Normalize\n",
    "x_train=x_train/255   # normalize training data\n",
    "x_test=x_test/255     # normalize test data"
   ]
  },
  {
   "cell_type": "code",
   "execution_count": 13,
   "metadata": {
    "ExecuteTime": {
     "end_time": "2021-08-26T07:03:40.243442Z",
     "start_time": "2021-08-26T07:03:40.216472Z"
    }
   },
   "outputs": [],
   "source": [
    "## label ==> One-Hot encoding\n",
    "from tensorflow.keras.utils import to_categorical\n",
    "\n",
    "y_train=to_categorical(y_train)\n",
    "y_test=to_categorical(y_test)\n"
   ]
  },
  {
   "cell_type": "markdown",
   "metadata": {},
   "source": [
    "Next, let's define a function that creates our model. Let's start with one set of convolutional and pooling layers.\n"
   ]
  },
  {
   "cell_type": "code",
   "execution_count": 22,
   "metadata": {
    "ExecuteTime": {
     "end_time": "2021-08-26T07:10:04.828913Z",
     "start_time": "2021-08-26T07:10:04.365151Z"
    },
    "code_folding": []
   },
   "outputs": [
    {
     "name": "stdout",
     "output_type": "stream",
     "text": [
      "Model: \"sequential_3\"\n",
      "_________________________________________________________________\n",
      "Layer (type)                 Output Shape              Param #   \n",
      "=================================================================\n",
      "conv2d_5 (Conv2D)            (None, 24, 24, 16)        416       \n",
      "_________________________________________________________________\n",
      "max_pooling2d_5 (MaxPooling2 (None, 12, 12, 16)        0         \n",
      "_________________________________________________________________\n",
      "conv2d_6 (Conv2D)            (None, 8, 8, 64)          25664     \n",
      "_________________________________________________________________\n",
      "max_pooling2d_6 (MaxPooling2 (None, 4, 4, 64)          0         \n",
      "_________________________________________________________________\n",
      "flatten_3 (Flatten)          (None, 1024)              0         \n",
      "_________________________________________________________________\n",
      "dense_8 (Dense)              (None, 128)               131200    \n",
      "_________________________________________________________________\n",
      "dense_9 (Dense)              (None, 64)                8256      \n",
      "_________________________________________________________________\n",
      "dense_10 (Dense)             (None, 10)                650       \n",
      "=================================================================\n",
      "Total params: 166,186\n",
      "Trainable params: 166,186\n",
      "Non-trainable params: 0\n",
      "_________________________________________________________________\n"
     ]
    }
   ],
   "source": [
    "from tensorflow.keras.models import Sequential\n",
    "from tensorflow.keras.layers import Dense,Conv2D,MaxPooling2D,Flatten\n",
    "\n",
    "def convolutional_model():\n",
    "    \n",
    "    ## create model\n",
    "    model=Sequential()\n",
    "    model.add(Conv2D(16,(5,5),strides=(1,1),activation='relu',input_shape=(28,28,1)))\n",
    "    model.add(MaxPooling2D(pool_size=(2, 2),strides=(2,2)))\n",
    "    model.add(Conv2D(64,(5,5),strides=(1,1),activation='relu',input_shape=(28,28,1)))\n",
    "    model.add(MaxPooling2D(pool_size=(2,2),strides=(2,2)))\n",
    "    \n",
    "    model.add(Flatten())\n",
    "    model.add(Dense(128,activation='relu'))\n",
    "    model.add(Dense(64,activation='relu'))\n",
    "    model.add(Dense(10,activation='softmax'))\n",
    "    \n",
    "    ## compile model\n",
    "    model.compile(optimizer='adam',loss='categorical_crossentropy',metrics=['accuracy'])\n",
    "    return model\n",
    "\n",
    "model = convolutional_model()\n",
    "model.summary()"
   ]
  },
  {
   "cell_type": "code",
   "execution_count": null,
   "metadata": {},
   "outputs": [],
   "source": [
    "## Model Train & Test"
   ]
  },
  {
   "cell_type": "code",
   "execution_count": 23,
   "metadata": {
    "ExecuteTime": {
     "end_time": "2021-08-26T07:23:49.574392Z",
     "start_time": "2021-08-26T07:11:58.911354Z"
    }
   },
   "outputs": [
    {
     "name": "stdout",
     "output_type": "stream",
     "text": [
      "Epoch 1/15\n",
      "300/300 - 44s - loss: 0.2927 - accuracy: 0.9147 - val_loss: 0.0712 - val_accuracy: 0.9783\n",
      "Epoch 2/15\n",
      "300/300 - 43s - loss: 0.0677 - accuracy: 0.9792 - val_loss: 0.0453 - val_accuracy: 0.9848\n",
      "Epoch 3/15\n",
      "300/300 - 51s - loss: 0.0458 - accuracy: 0.9859 - val_loss: 0.0372 - val_accuracy: 0.9890\n",
      "Epoch 4/15\n",
      "300/300 - 47s - loss: 0.0350 - accuracy: 0.9893 - val_loss: 0.0362 - val_accuracy: 0.9885\n",
      "Epoch 5/15\n",
      "300/300 - 44s - loss: 0.0287 - accuracy: 0.9908 - val_loss: 0.0278 - val_accuracy: 0.9912\n",
      "Epoch 6/15\n",
      "300/300 - 48s - loss: 0.0237 - accuracy: 0.9926 - val_loss: 0.0260 - val_accuracy: 0.9915\n",
      "Epoch 7/15\n",
      "300/300 - 45s - loss: 0.0195 - accuracy: 0.9938 - val_loss: 0.0297 - val_accuracy: 0.9903\n",
      "Epoch 8/15\n",
      "300/300 - 38s - loss: 0.0170 - accuracy: 0.9946 - val_loss: 0.0304 - val_accuracy: 0.9906\n",
      "Epoch 9/15\n",
      "300/300 - 45s - loss: 0.0140 - accuracy: 0.9957 - val_loss: 0.0278 - val_accuracy: 0.9903\n",
      "Epoch 10/15\n",
      "300/300 - 52s - loss: 0.0113 - accuracy: 0.9965 - val_loss: 0.0301 - val_accuracy: 0.9919\n",
      "Epoch 11/15\n",
      "300/300 - 50s - loss: 0.0110 - accuracy: 0.9964 - val_loss: 0.0358 - val_accuracy: 0.9889\n",
      "Epoch 12/15\n",
      "300/300 - 51s - loss: 0.0098 - accuracy: 0.9967 - val_loss: 0.0266 - val_accuracy: 0.9930\n",
      "Epoch 13/15\n",
      "300/300 - 44s - loss: 0.0068 - accuracy: 0.9979 - val_loss: 0.0299 - val_accuracy: 0.9915\n",
      "Epoch 14/15\n",
      "300/300 - 46s - loss: 0.0074 - accuracy: 0.9976 - val_loss: 0.0365 - val_accuracy: 0.9908\n",
      "Epoch 15/15\n",
      "300/300 - 52s - loss: 0.0054 - accuracy: 0.9983 - val_loss: 0.0376 - val_accuracy: 0.9897\n",
      "Accuracy: 0.9897000193595886 \n",
      " Error: 1.0299980640411377\n"
     ]
    }
   ],
   "source": [
    "## fit the model\n",
    "model.fit(x_train,y_train,validation_data=(x_test,y_test),epochs=15,batch_size=200,verbose=2)\n",
    "\n"
   ]
  },
  {
   "cell_type": "code",
   "execution_count": 24,
   "metadata": {
    "ExecuteTime": {
     "end_time": "2021-08-26T07:36:22.070961Z",
     "start_time": "2021-08-26T07:36:19.255442Z"
    }
   },
   "outputs": [
    {
     "name": "stdout",
     "output_type": "stream",
     "text": [
      "Accuracy: 0.9897000193595886 \n",
      " Error: 1.0299980640411377\n"
     ]
    }
   ],
   "source": [
    "## evaluate the model\n",
    "scores=model.evaluate(x_test,y_test,verbose=0)\n",
    "print(\"Accuracy: {} \\n Error: {}\".format(scores[1],100-scores[1]*100))"
   ]
  },
  {
   "cell_type": "code",
   "execution_count": 26,
   "metadata": {
    "ExecuteTime": {
     "end_time": "2021-08-26T07:38:23.385055Z",
     "start_time": "2021-08-26T07:38:23.377132Z"
    }
   },
   "outputs": [],
   "source": [
    "## Save Model :"
   ]
  },
  {
   "cell_type": "code",
   "execution_count": 27,
   "metadata": {
    "ExecuteTime": {
     "end_time": "2021-08-26T07:38:23.961211Z",
     "start_time": "2021-08-26T07:38:23.856976Z"
    }
   },
   "outputs": [],
   "source": [
    "model.save('hand_written_digits_classification_model_v2.h5')"
   ]
  },
  {
   "cell_type": "code",
   "execution_count": 28,
   "metadata": {
    "ExecuteTime": {
     "end_time": "2021-08-26T07:38:24.611750Z",
     "start_time": "2021-08-26T07:38:24.604785Z"
    }
   },
   "outputs": [],
   "source": [
    "## Load Model"
   ]
  },
  {
   "cell_type": "code",
   "execution_count": 33,
   "metadata": {
    "ExecuteTime": {
     "end_time": "2021-08-26T07:39:38.261085Z",
     "start_time": "2021-08-26T07:39:37.912701Z"
    }
   },
   "outputs": [],
   "source": [
    "from tensorflow.keras.models import load_model\n",
    "pretrained_model = load_model('hand_written_digits_classification_model_v2.h5')"
   ]
  },
  {
   "cell_type": "code",
   "execution_count": null,
   "metadata": {},
   "outputs": [],
   "source": []
  }
 ],
 "metadata": {
  "kernelspec": {
   "display_name": "Python 3",
   "language": "python",
   "name": "python3"
  },
  "language_info": {
   "codemirror_mode": {
    "name": "ipython",
    "version": 3
   },
   "file_extension": ".py",
   "mimetype": "text/x-python",
   "name": "python",
   "nbconvert_exporter": "python",
   "pygments_lexer": "ipython3",
   "version": "3.8.8"
  },
  "toc": {
   "base_numbering": 1,
   "nav_menu": {},
   "number_sections": true,
   "sideBar": true,
   "skip_h1_title": false,
   "title_cell": "Table of Contents",
   "title_sidebar": "Contents",
   "toc_cell": false,
   "toc_position": {},
   "toc_section_display": true,
   "toc_window_display": false
  },
  "varInspector": {
   "cols": {
    "lenName": 16,
    "lenType": 16,
    "lenVar": 40
   },
   "kernels_config": {
    "python": {
     "delete_cmd_postfix": "",
     "delete_cmd_prefix": "del ",
     "library": "var_list.py",
     "varRefreshCmd": "print(var_dic_list())"
    },
    "r": {
     "delete_cmd_postfix": ") ",
     "delete_cmd_prefix": "rm(",
     "library": "var_list.r",
     "varRefreshCmd": "cat(var_dic_list()) "
    }
   },
   "types_to_exclude": [
    "module",
    "function",
    "builtin_function_or_method",
    "instance",
    "_Feature"
   ],
   "window_display": false
  }
 },
 "nbformat": 4,
 "nbformat_minor": 4
}
