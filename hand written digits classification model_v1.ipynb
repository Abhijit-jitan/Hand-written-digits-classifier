{
 "cells": [
  {
   "cell_type": "markdown",
   "metadata": {},
   "source": [
    "## Import Libraries"
   ]
  },
  {
   "cell_type": "code",
   "execution_count": 10,
   "metadata": {
    "ExecuteTime": {
     "end_time": "2021-08-26T06:08:25.905662Z",
     "start_time": "2021-08-26T06:08:25.883661Z"
    },
    "button": false,
    "new_sheet": false,
    "run_control": {
     "read_only": false
    }
   },
   "outputs": [],
   "source": [
    "import tensorflow as tf\n",
    "from tensorflow import keras\n",
    "from tensorflow.keras.utils import to_categorical\n",
    "import matplotlib.pyplot as plt"
   ]
  },
  {
   "cell_type": "code",
   "execution_count": 11,
   "metadata": {
    "ExecuteTime": {
     "end_time": "2021-08-26T06:08:26.247734Z",
     "start_time": "2021-08-26T06:08:26.228166Z"
    }
   },
   "outputs": [],
   "source": [
    "## import the data"
   ]
  },
  {
   "cell_type": "code",
   "execution_count": 42,
   "metadata": {
    "ExecuteTime": {
     "end_time": "2021-08-26T06:24:41.867798Z",
     "start_time": "2021-08-26T06:24:40.840583Z"
    },
    "button": false,
    "new_sheet": false,
    "run_control": {
     "read_only": false
    }
   },
   "outputs": [],
   "source": [
    "from tensorflow.keras.datasets import mnist\n",
    "(x_train,y_train),(x_test,y_test)=mnist.load_data()"
   ]
  },
  {
   "cell_type": "code",
   "execution_count": 43,
   "metadata": {
    "ExecuteTime": {
     "end_time": "2021-08-26T06:24:41.961728Z",
     "start_time": "2021-08-26T06:24:41.937395Z"
    },
    "button": false,
    "new_sheet": false,
    "run_control": {
     "read_only": false
    }
   },
   "outputs": [
    {
     "data": {
      "text/plain": [
       "(60000, 28, 28)"
      ]
     },
     "execution_count": 43,
     "metadata": {},
     "output_type": "execute_result"
    }
   ],
   "source": [
    "x_train.shape"
   ]
  },
  {
   "cell_type": "code",
   "execution_count": 44,
   "metadata": {
    "ExecuteTime": {
     "end_time": "2021-08-26T06:24:42.568714Z",
     "start_time": "2021-08-26T06:24:42.036112Z"
    },
    "button": false,
    "new_sheet": false,
    "run_control": {
     "read_only": false
    }
   },
   "outputs": [
    {
     "data": {
      "text/plain": [
       "5"
      ]
     },
     "execution_count": 44,
     "metadata": {},
     "output_type": "execute_result"
    },
    {
     "data": {
      "image/png": "[encoded data removed]",
      "text/plain": [
       "<Figure size 432x288 with 1 Axes>"
      ]
     },
     "metadata": {
      "needs_background": "light"
     },
     "output_type": "display_data"
    }
   ],
   "source": [
    "# visualization\n",
    "plt.imshow(x_train[0])  # image\n",
    "y_train[0]              # label"
   ]
  },
  {
   "cell_type": "code",
   "execution_count": 45,
   "metadata": {
    "ExecuteTime": {
     "end_time": "2021-08-26T06:24:42.948025Z",
     "start_time": "2021-08-26T06:24:42.664749Z"
    },
    "button": false,
    "new_sheet": false,
    "run_control": {
     "read_only": false
    }
   },
   "outputs": [],
   "source": [
    "## flatten images into one-dimensional vector\n",
    "num_pixels=x_train.shape[1]*x_train.shape[2]   #(28*28) find size of one-dimensional vector\n",
    "x_train=x_train.reshape(x_train.shape[0],num_pixels).astype('float32') # flatten training images\n",
    "x_test=x_test.reshape(x_test.shape[0],num_pixels).astype('float32') # flatten test images\n",
    "\n",
    "\n",
    "## normalize inputs from 0-255 to 0-1\n",
    "x_train=x_train/255\n",
    "x_test=x_test/255"
   ]
  },
  {
   "cell_type": "code",
   "execution_count": 49,
   "metadata": {
    "ExecuteTime": {
     "end_time": "2021-08-26T06:26:39.420293Z",
     "start_time": "2021-08-26T06:26:39.395818Z"
    },
    "button": false,
    "new_sheet": false,
    "run_control": {
     "read_only": false
    }
   },
   "outputs": [
    {
     "name": "stdout",
     "output_type": "stream",
     "text": [
      "10\n"
     ]
    }
   ],
   "source": [
    "## label ==> one hot encode \n",
    "y_train=to_categorical(y_train)\n",
    "y_test=to_categorical(y_test)\n",
    "\n",
    "num_classes=y_test.shape[1]\n",
    "print(num_classes)"
   ]
  },
  {
   "cell_type": "markdown",
   "metadata": {
    "button": false,
    "new_sheet": false,
    "run_control": {
     "read_only": false
    }
   },
   "source": [
    "## Build a Neural Network\n"
   ]
  },
  {
   "cell_type": "code",
   "execution_count": 56,
   "metadata": {
    "ExecuteTime": {
     "end_time": "2021-08-26T06:33:20.310963Z",
     "start_time": "2021-08-26T06:33:20.292013Z"
    },
    "button": false,
    "new_sheet": false,
    "run_control": {
     "read_only": false
    }
   },
   "outputs": [],
   "source": [
    "# define classification model\n",
    "from tensorflow.keras.models import Model,Sequential\n",
    "from tensorflow.keras.layers import Activation,Dense,Flatten\n",
    "from tensorflow.keras.optimizers import Adam\n",
    "\n",
    "def classification_model():\n",
    "    ## create model\n",
    "    model = Sequential()\n",
    "    model.add(Dense(num_pixels, activation='relu', input_shape=(num_pixels,)))\n",
    "    model.add(Dense(64, activation='relu'))\n",
    "    model.add(Dense(64, activation='relu'))\n",
    "    model.add(Dense(num_classes, activation='softmax'))\n",
    "    \n",
    "    ## compile model\n",
    "    model.compile(optimizer='adam', loss='categorical_crossentropy', metrics=['accuracy'])\n",
    "\n",
    "    return model\n",
    "\n",
    "\n",
    "model=classification_model()    # build the model\n",
    "model.summary()"
   ]
  },
  {
   "cell_type": "markdown",
   "metadata": {
    "button": false,
    "new_sheet": false,
    "run_control": {
     "read_only": false
    }
   },
   "source": [
    "## Train and Test the Network\n"
   ]
  },
  {
   "cell_type": "code",
   "execution_count": 57,
   "metadata": {
    "ExecuteTime": {
     "end_time": "2021-08-26T06:36:47.978614Z",
     "start_time": "2021-08-26T06:33:21.402178Z"
    },
    "button": false,
    "new_sheet": false,
    "run_control": {
     "read_only": false
    }
   },
   "outputs": [
    {
     "name": "stdout",
     "output_type": "stream",
     "text": [
      "Epoch 1/10\n",
      "1875/1875 - 18s - loss: 0.1995 - accuracy: 0.9394 - val_loss: 0.1085 - val_accuracy: 0.9663\n",
      "Epoch 2/10\n",
      "1875/1875 - 18s - loss: 0.0857 - accuracy: 0.9733 - val_loss: 0.0937 - val_accuracy: 0.9723\n",
      "Epoch 3/10\n",
      "1875/1875 - 24s - loss: 0.0598 - accuracy: 0.9812 - val_loss: 0.0774 - val_accuracy: 0.9780\n",
      "Epoch 4/10\n",
      "1875/1875 - 18s - loss: 0.0459 - accuracy: 0.9853 - val_loss: 0.0793 - val_accuracy: 0.9790\n",
      "Epoch 5/10\n",
      "1875/1875 - 18s - loss: 0.0356 - accuracy: 0.9884 - val_loss: 0.0894 - val_accuracy: 0.9749\n",
      "Epoch 6/10\n",
      "1875/1875 - 24s - loss: 0.0308 - accuracy: 0.9901 - val_loss: 0.0872 - val_accuracy: 0.9781\n",
      "Epoch 7/10\n",
      "1875/1875 - 22s - loss: 0.0254 - accuracy: 0.9916 - val_loss: 0.0768 - val_accuracy: 0.9825\n",
      "Epoch 8/10\n",
      "1875/1875 - 23s - loss: 0.0228 - accuracy: 0.9926 - val_loss: 0.0923 - val_accuracy: 0.9778\n",
      "Epoch 9/10\n",
      "1875/1875 - 21s - loss: 0.0201 - accuracy: 0.9935 - val_loss: 0.1026 - val_accuracy: 0.9782\n",
      "Epoch 10/10\n",
      "1875/1875 - 18s - loss: 0.0201 - accuracy: 0.9937 - val_loss: 0.0847 - val_accuracy: 0.9789\n"
     ]
    }
   ],
   "source": [
    "## fit the model\n",
    "model.fit(x_train,y_train,validation_data=(x_test,y_test),epochs=10,verbose=2)\n",
    "\n",
    "## evaluate the model\n",
    "scores=model.evaluate(x_test,y_test,verbose=0)"
   ]
  },
  {
   "cell_type": "code",
   "execution_count": 58,
   "metadata": {
    "ExecuteTime": {
     "end_time": "2021-08-26T06:37:35.317976Z",
     "start_time": "2021-08-26T06:37:35.301020Z"
    },
    "button": false,
    "new_sheet": false,
    "run_control": {
     "read_only": false
    }
   },
   "outputs": [
    {
     "name": "stdout",
     "output_type": "stream",
     "text": [
      "Accuracy: 0.9789000153541565% \n",
      " Error: 0.021099984645843506\n"
     ]
    }
   ],
   "source": [
    "print('Accuracy: {}% \\n Error: {}'.format(scores[1],1-scores[1]))        "
   ]
  },
  {
   "cell_type": "code",
   "execution_count": null,
   "metadata": {},
   "outputs": [],
   "source": [
    "## Save Model weights"
   ]
  },
  {
   "cell_type": "code",
   "execution_count": 60,
   "metadata": {
    "ExecuteTime": {
     "end_time": "2021-08-26T07:40:04.432721Z",
     "start_time": "2021-08-26T07:40:04.229267Z"
    },
    "button": false,
    "new_sheet": false,
    "run_control": {
     "read_only": false
    }
   },
   "outputs": [],
   "source": [
    "model.save('hand_written_digits_classification_model_v1.h5')"
   ]
  },
  {
   "cell_type": "code",
   "execution_count": 61,
   "metadata": {
    "ExecuteTime": {
     "end_time": "2021-08-26T07:40:04.464635Z",
     "start_time": "2021-08-26T07:40:04.443699Z"
    }
   },
   "outputs": [],
   "source": [
    "## Load Saved Model"
   ]
  },
  {
   "cell_type": "code",
   "execution_count": 62,
   "metadata": {
    "ExecuteTime": {
     "end_time": "2021-08-26T07:40:06.248307Z",
     "start_time": "2021-08-26T07:40:05.802977Z"
    },
    "button": false,
    "new_sheet": false,
    "run_control": {
     "read_only": false
    }
   },
   "outputs": [],
   "source": [
    "from tensorflow.keras.models import load_model\n",
    "pretrained_model = load_model('hand_written_digits_classification_model_v1.h5')"
   ]
  },
  {
   "cell_type": "code",
   "execution_count": null,
   "metadata": {},
   "outputs": [],
   "source": []
  }
 ],
 "metadata": {
  "kernelspec": {
   "display_name": "Python 3",
   "language": "python",
   "name": "python3"
  },
  "language_info": {
   "codemirror_mode": {
    "name": "ipython",
    "version": 3
   },
   "file_extension": ".py",
   "mimetype": "text/x-python",
   "name": "python",
   "nbconvert_exporter": "python",
   "pygments_lexer": "ipython3",
   "version": "3.8.8"
  },
  "toc": {
   "base_numbering": 1,
   "nav_menu": {},
   "number_sections": true,
   "sideBar": true,
   "skip_h1_title": false,
   "title_cell": "Table of Contents",
   "title_sidebar": "Contents",
   "toc_cell": false,
   "toc_position": {},
   "toc_section_display": true,
   "toc_window_display": false
  },
  "varInspector": {
   "cols": {
    "lenName": 16,
    "lenType": 16,
    "lenVar": 40
   },
   "kernels_config": {
    "python": {
     "delete_cmd_postfix": "",
     "delete_cmd_prefix": "del ",
     "library": "var_list.py",
     "varRefreshCmd": "print(var_dic_list())"
    },
    "r": {
     "delete_cmd_postfix": ") ",
     "delete_cmd_prefix": "rm(",
     "library": "var_list.r",
     "varRefreshCmd": "cat(var_dic_list()) "
    }
   },
   "types_to_exclude": [
    "module",
    "function",
    "builtin_function_or_method",
    "instance",
    "_Feature"
   ],
   "window_display": false
  }
 },
 "nbformat": 4,
 "nbformat_minor": 4
}
